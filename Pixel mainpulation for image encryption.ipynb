{
 "cells": [
  {
   "cell_type": "code",
   "execution_count": 3,
   "id": "45d5cc9c-2f0d-4b5b-a48a-dd067a44b8d2",
   "metadata": {},
   "outputs": [
    {
     "name": "stdout",
     "output_type": "stream",
     "text": [
      "Encrypted image saved to encrypted_image.png\n",
      "Decrypted image saved to decrypted_image.png\n"
     ]
    }
   ],
   "source": [
    "from PIL import Image\n",
    "import numpy as np\n",
    "import random\n",
    "def encrypt_image(input_image_path, encrypted_image_path, key):\n",
    "    img = Image.open(input_image_path)\n",
    "    img_array = np.array(img)\n",
    "    flat_array = img_array.flatten()\n",
    "    manipulated_array = ((flat_array.astype(np.int16) + key) % 256).astype(np.uint8)\n",
    "    indices = list(range(len(manipulated_array)))\n",
    "    random.seed(key)  \n",
    "    random.shuffle(indices)\n",
    "    shuffled_array = manipulated_array[indices]\n",
    "    shuffled_array = shuffled_array.reshape(img_array.shape)\n",
    "    encrypted_img = Image.fromarray(shuffled_array)\n",
    "    encrypted_img.save(encrypted_image_path)\n",
    "    print(f\"Encrypted image saved to {encrypted_image_path}\")\n",
    "def decrypt_image(encrypted_image_path, decrypted_image_path, key):\n",
    "    img = Image.open(encrypted_image_path)\n",
    "    img_array = np.array(img)\n",
    "    flat_array = img_array.flatten()\n",
    "    indices = list(range(len(flat_array)))\n",
    "    random.seed(key)\n",
    "    random.shuffle(indices)\n",
    "    unshuffled_array = np.zeros_like(flat_array)\n",
    "    for i, idx in enumerate(indices):\n",
    "        unshuffled_array[idx] = flat_array[i]\n",
    "    manipulated_array = ((unshuffled_array.astype(np.int16) - key) % 256).astype(np.uint8)\n",
    "    manipulated_array = manipulated_array.reshape(img_array.shape)\n",
    "    decrypted_img = Image.fromarray(manipulated_array)\n",
    "    decrypted_img.save(decrypted_image_path)\n",
    "    print(f\"Decrypted image saved to {decrypted_image_path}\")\n",
    "key = 123 \n",
    "encrypt_image(r\"C:\\Users\\nevid\\Downloads\\download (1).jpg\", \"encrypted_image.png\", key)\n",
    "decrypt_image(\"encrypted_image.png\", \"decrypted_image.png\", key)\n"
   ]
  },
  {
   "cell_type": "code",
   "execution_count": null,
   "id": "caa14996-96ce-4eaf-9e2a-687981d6ca65",
   "metadata": {},
   "outputs": [],
   "source": []
  }
 ],
 "metadata": {
  "kernelspec": {
   "display_name": "Python [conda env:base] *",
   "language": "python",
   "name": "conda-base-py"
  },
  "language_info": {
   "codemirror_mode": {
    "name": "ipython",
    "version": 3
   },
   "file_extension": ".py",
   "mimetype": "text/x-python",
   "name": "python",
   "nbconvert_exporter": "python",
   "pygments_lexer": "ipython3",
   "version": "3.13.5"
  }
 },
 "nbformat": 4,
 "nbformat_minor": 5
}
